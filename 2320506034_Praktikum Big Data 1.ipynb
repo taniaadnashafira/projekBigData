{
 "cells": [
  {
   "cell_type": "code",
   "execution_count": 36,
   "id": "3a5af3b5-1e40-4e37-9d9a-c0a6ca558e99",
   "metadata": {},
   "outputs": [],
   "source": [
    "import findspark\n",
    "findspark.init()"
   ]
  },
  {
   "cell_type": "code",
   "execution_count": 37,
   "id": "7f8fec3a-5683-45f7-91a4-232450488126",
   "metadata": {},
   "outputs": [
    {
     "name": "stdout",
     "output_type": "stream",
     "text": [
      "+-----+----+---------+---------+---------+\n",
      "| Nama|Usia|Pekerjaan|     Hobi|   Gender|\n",
      "+-----+----+---------+---------+---------+\n",
      "|  Ali|  34| Insinyur|Bersepeda|Laki-laki|\n",
      "| Budi|  23| Desainer|Fotografi|Laki-laki|\n",
      "|Citra|  29|   Dokter|  Membaca|Perempuan|\n",
      "| Dina|  45|     Guru| Berkebun|Perempuan|\n",
      "+-----+----+---------+---------+---------+\n",
      "\n"
     ]
    }
   ],
   "source": [
    "import findspark\n",
    "findspark.init()\n",
    "from pyspark.sql import SparkSession\n",
    "\n",
    "# Memulai Spark session\n",
    "spark = SparkSession.builder.appName(\"BigDataPractice\").getOrCreate()\n",
    "\n",
    "# Membuat DataFrame dengan kolom tambahan\n",
    "data = [\n",
    "    (\"Ali\", 34, \"Insinyur\", \"Bersepeda\", \"Laki-laki\"),\n",
    "    (\"Budi\", 23, \"Desainer\", \"Fotografi\", \"Laki-laki\"),\n",
    "    (\"Citra\", 29, \"Dokter\", \"Membaca\", \"Perempuan\"),\n",
    "    (\"Dina\", 45, \"Guru\", \"Berkebun\", \"Perempuan\")\n",
    "]\n",
    "columns = [\"Nama\", \"Usia\", \"Pekerjaan\", \"Hobi\", \"Gender\"]\n",
    "df = spark.createDataFrame(data, columns)\n",
    "\n",
    "# Menampilkan DataFrame\n",
    "df.show()\n"
   ]
  },
  {
   "cell_type": "code",
   "execution_count": 38,
   "id": "8d957874-fa24-4b2a-8e41-137d18e19044",
   "metadata": {},
   "outputs": [
    {
     "name": "stdout",
     "output_type": "stream",
     "text": [
      "+-----+----+---------+---------+---------+\n",
      "| Nama|Usia|Pekerjaan|     Hobi|   Gender|\n",
      "+-----+----+---------+---------+---------+\n",
      "|  Ali|  34| Insinyur|Bersepeda|Laki-laki|\n",
      "| Budi|  23| Desainer|Fotografi|Laki-laki|\n",
      "|Citra|  29|   Dokter|  Membaca|Perempuan|\n",
      "| Dina|  45|     Guru| Berkebun|Perempuan|\n",
      "+-----+----+---------+---------+---------+\n",
      "\n",
      "+----+----+---------+---------+---------+\n",
      "|Nama|Usia|Pekerjaan|     Hobi|   Gender|\n",
      "+----+----+---------+---------+---------+\n",
      "| Ali|  34| Insinyur|Bersepeda|Laki-laki|\n",
      "|Dina|  45|     Guru| Berkebun|Perempuan|\n",
      "+----+----+---------+---------+---------+\n",
      "\n",
      "+---------+\n",
      "|avg(Usia)|\n",
      "+---------+\n",
      "|    32.75|\n",
      "+---------+\n",
      "\n",
      "+-----+----+---------+---------+---------+\n",
      "| Nama|Usia|Pekerjaan|     Hobi|   Gender|\n",
      "+-----+----+---------+---------+---------+\n",
      "| Dina|  45|     Guru| Berkebun|Perempuan|\n",
      "|  Ali|  34| Insinyur|Bersepeda|Laki-laki|\n",
      "|Citra|  29|   Dokter|  Membaca|Perempuan|\n",
      "| Budi|  23| Desainer|Fotografi|Laki-laki|\n",
      "+-----+----+---------+---------+---------+\n",
      "\n"
     ]
    }
   ],
   "source": [
    "from pyspark.sql import SparkSession\n",
    "from pyspark.sql.functions import avg\n",
    "\n",
    "# Memulai Spark session\n",
    "spark = SparkSession.builder.appName(\"BigDataPractice\").getOrCreate()\n",
    "\n",
    "# Membuat DataFrame sederhana\n",
    "data = [\n",
    "    (\"Ali\", 34, \"Insinyur\", \"Bersepeda\", \"Laki-laki\"),\n",
    "    (\"Budi\", 23, \"Desainer\", \"Fotografi\", \"Laki-laki\"),\n",
    "    (\"Citra\", 29, \"Dokter\", \"Membaca\", \"Perempuan\"),\n",
    "    (\"Dina\", 45, \"Guru\", \"Berkebun\", \"Perempuan\")\n",
    "]\n",
    "columns = [\"Nama\", \"Usia\", \"Pekerjaan\", \"Hobi\", \"Gender\"]\n",
    "df = spark.createDataFrame(data, columns)\n",
    "\n",
    "# Menampilkan DataFrame\n",
    "df.show()\n",
    "\n",
    "# Filtering data\n",
    "df_filtered = df.filter(df['Usia'] > 30)\n",
    "df_filtered.show()\n",
    "\n",
    "# Menghitung rata-rata usia\n",
    "df.groupBy().agg(avg(\"Usia\")).show()\n",
    "\n",
    "# Mengurutkan data berdasarkan usia\n",
    "df_sorted = df.orderBy(\"Usia\", ascending=False)\n",
    "df_sorted.show()\n"
   ]
  },
  {
   "cell_type": "code",
   "execution_count": 39,
   "id": "4263dcfe-568f-4955-b2a6-a9e9d999ad8d",
   "metadata": {},
   "outputs": [
    {
     "name": "stdout",
     "output_type": "stream",
     "text": [
      "DataFrame setelah penambahan kolom:\n",
      "    Nama  Usia Pekerjaan       Hobi     Gender\n",
      "0    Ali    34  Insinyur  Bersepeda  Laki-laki\n",
      "1   Budi    23  Desainer  Fotografi  Laki-laki\n",
      "2  Citra    29    Dokter    Membaca  Perempuan\n",
      "3   Dina    45      Guru   Berkebun  Perempuan\n",
      "\n",
      "DataFrame setelah filter usia > 30:\n",
      "   Nama  Usia Pekerjaan       Hobi     Gender\n",
      "0   Ali    34  Insinyur  Bersepeda  Laki-laki\n",
      "3  Dina    45      Guru   Berkebun  Perempuan\n"
     ]
    }
   ],
   "source": [
    "import pandas as pd\n",
    "\n",
    "# Membuat DataFrame Pandas\n",
    "data_pandas = {\"Nama\": [\"Ali\", \"Budi\", \"Citra\", \"Dina\"], \"Usia\": [34, 23, 29, 45]}\n",
    "df_pandas = pd.DataFrame(data_pandas)\n",
    "\n",
    "# Menambahkan kolom baru\n",
    "df_pandas[\"Pekerjaan\"] = [\"Insinyur\", \"Desainer\", \"Dokter\", \"Guru\"]\n",
    "df_pandas[\"Hobi\"] = [\"Bersepeda\", \"Fotografi\", \"Membaca\", \"Berkebun\"]\n",
    "df_pandas[\"Gender\"] = [\"Laki-laki\", \"Laki-laki\", \"Perempuan\", \"Perempuan\"]\n",
    "\n",
    "# Menampilkan DataFrame yang telah dimodifikasi\n",
    "print(\"DataFrame setelah penambahan kolom:\")\n",
    "print(df_pandas)\n",
    "\n",
    "# Filtering data berdasarkan usia\n",
    "df_filtered = df_pandas[df_pandas['Usia'] > 30]\n",
    "\n",
    "# Menampilkan DataFrame hasil filter\n",
    "print(\"\\nDataFrame setelah filter usia > 30:\")\n",
    "print(df_filtered)\n"
   ]
  },
  {
   "cell_type": "code",
   "execution_count": 40,
   "id": "a0639666-f186-4dce-937f-f7ece6af05c3",
   "metadata": {},
   "outputs": [
    {
     "name": "stdout",
     "output_type": "stream",
     "text": [
      "DataFrame Gabungan:\n",
      "    Nama  Usia Pekerjaan\n",
      "0    Ali    34  Insinyur\n",
      "1   Budi    23  Desainer\n",
      "2  Citra    29    Dokter\n",
      "3   Dina    45      Guru\n",
      "\n",
      "Statistik Deskriptif DataFrame Awal:\n",
      "            Usia\n",
      "count   4.000000\n",
      "mean   32.750000\n",
      "std     9.322911\n",
      "min    23.000000\n",
      "25%    27.500000\n",
      "50%    31.500000\n",
      "75%    36.750000\n",
      "max    45.000000\n"
     ]
    },
    {
     "data": {
      "image/png": "[encoded data removed]",
      "text/plain": [
       "<Figure size 800x600 with 1 Axes>"
      ]
     },
     "metadata": {},
     "output_type": "display_data"
    }
   ],
   "source": [
    "import pandas as pd\n",
    "import matplotlib.pyplot as plt\n",
    "\n",
    "# Membuat DataFrame pertama\n",
    "data_pandas = {\"Nama\": [\"Ali\", \"Budi\", \"Citra\", \"Dina\"], \"Usia\": [34, 23, 29, 45]}\n",
    "df_pandas = pd.DataFrame(data_pandas)\n",
    "\n",
    "# Membuat DataFrame kedua\n",
    "data_pandas_2 = {\"Nama\": [\"Ali\", \"Budi\", \"Citra\", \"Dina\"], \"Pekerjaan\": [\"Insinyur\", \"Desainer\", \"Dokter\", \"Guru\"]}\n",
    "df_pandas_2 = pd.DataFrame(data_pandas_2)\n",
    "\n",
    "# Menggabungkan dua DataFrame\n",
    "df_joined = pd.merge(df_pandas, df_pandas_2, on=\"Nama\")\n",
    "\n",
    "# Menampilkan DataFrame gabungan\n",
    "print(\"DataFrame Gabungan:\")\n",
    "print(df_joined)\n",
    "\n",
    "# Menghitung dan menampilkan statistik deskriptif dari DataFrame awal\n",
    "print(\"\\nStatistik Deskriptif DataFrame Awal:\")\n",
    "print(df_pandas.describe())\n",
    "\n",
    "# Visualisasi data usia\n",
    "plt.figure(figsize=(8, 6))\n",
    "df_pandas['Usia'].plot(kind='bar', color='skyblue')\n",
    "plt.title('Distribusi Usia')\n",
    "plt.xlabel('Index')\n",
    "plt.ylabel('Usia')\n",
    "plt.xticks(range(len(df_pandas['Usia'])), df_pandas['Nama'], rotation=45)\n",
    "plt.grid(axis='y', linestyle='--', alpha=0.7)\n",
    "plt.tight_layout()\n",
    "plt.show()\n"
   ]
  },
  {
   "cell_type": "code",
   "execution_count": 41,
   "id": "04e38ca2-ec19-4b92-9207-cd6132969880",
   "metadata": {},
   "outputs": [
    {
     "name": "stdout",
     "output_type": "stream",
     "text": [
      "DataFrame Gabungan:\n",
      "+-----+----+---------+\n",
      "| Nama|Usia|Pekerjaan|\n",
      "+-----+----+---------+\n",
      "|  Ali|  34| Insinyur|\n",
      "| Budi|  23| Desainer|\n",
      "|Citra|  29|   Dokter|\n",
      "| Dina|  45|     Guru|\n",
      "+-----+----+---------+\n",
      "\n",
      "+---------+\n",
      "|avg(Usia)|\n",
      "+---------+\n",
      "|    32.75|\n",
      "+---------+\n",
      "\n"
     ]
    }
   ],
   "source": [
    "import findspark\n",
    "findspark.init()\n",
    "from pyspark.sql import SparkSession\n",
    "import pandas as pd\n",
    "\n",
    "# Memulai Spark session\n",
    "spark = SparkSession.builder.appName(\"BigDataPractice\").getOrCreate()\n",
    "\n",
    "# Membuat DataFrame PySpark\n",
    "data_spark = [(\"Ali\", 34), (\"Budi\", 23), (\"Citra\", 29), (\"Dina\", 45)]\n",
    "columns_spark = [\"Nama\", \"Usia\"]\n",
    "df_spark = spark.createDataFrame(data_spark, columns_spark)\n",
    "\n",
    "# Membuat DataFrame Pandas\n",
    "data_pandas = {\"Nama\": [\"Ali\", \"Budi\", \"Citra\", \"Dina\"], \"Pekerjaan\": [\"Insinyur\", \"Desainer\", \"Dokter\", \"Guru\"]}\n",
    "df_pandas = pd.DataFrame(data_pandas)\n",
    "\n",
    "# Mengonversi DataFrame PySpark ke Pandas\n",
    "df_pandas_from_spark = df_spark.toPandas()\n",
    "\n",
    "# Mengonversi DataFrame Pandas ke PySpark\n",
    "df_spark_from_pandas = spark.createDataFrame(df_pandas)\n",
    "\n",
    "# Menggabungkan DataFrame Pandas dari Spark dengan DataFrame PySpark yang dikonversi dari Pandas\n",
    "df_joined = pd.merge(df_pandas_from_spark, df_pandas, on=\"Nama\")\n",
    "\n",
    "# Mengonversi DataFrame gabungan ke PySpark\n",
    "df_joined_spark = spark.createDataFrame(df_joined)\n",
    "\n",
    "# Menampilkan DataFrame gabungan\n",
    "print(\"DataFrame Gabungan:\")\n",
    "df_joined_spark.show()\n",
    "\n",
    "# Menghitung rata-rata usia menggunakan DataFrame PySpark\n",
    "from pyspark.sql.functions import avg\n",
    "df_joined_spark.groupBy().agg(avg(\"Usia\")).show()\n"
   ]
  },
  {
   "cell_type": "code",
   "execution_count": 42,
   "id": "8c7e6274-269f-49da-9816-9b4abcc1aa24",
   "metadata": {},
   "outputs": [
    {
     "name": "stdout",
     "output_type": "stream",
     "text": [
      "DataFrame Gabungan:\n",
      "+-----+----+---------+\n",
      "| Nama|Usia|Pekerjaan|\n",
      "+-----+----+---------+\n",
      "|  Ali|  34| Insinyur|\n",
      "| Budi|  23| Desainer|\n",
      "|Citra|  29|   Dokter|\n",
      "| Dina|  45|     Guru|\n",
      "+-----+----+---------+\n",
      "\n",
      "Nilai Maksimum Usia:\n",
      "+---------+\n",
      "|max(Usia)|\n",
      "+---------+\n",
      "|       45|\n",
      "+---------+\n",
      "\n"
     ]
    }
   ],
   "source": [
    "import findspark\n",
    "findspark.init()\n",
    "from pyspark.sql import SparkSession\n",
    "import pandas as pd\n",
    "from pyspark.sql.functions import max\n",
    "\n",
    "# Memulai Spark session\n",
    "spark = SparkSession.builder.appName(\"BigDataPractice\").getOrCreate()\n",
    "\n",
    "# Membuat DataFrame PySpark\n",
    "data_spark = [(\"Ali\", 34), (\"Budi\", 23), (\"Citra\", 29), (\"Dina\", 45)]\n",
    "columns_spark = [\"Nama\", \"Usia\"]\n",
    "df_spark = spark.createDataFrame(data_spark, columns_spark)\n",
    "\n",
    "# Membuat DataFrame Pandas\n",
    "data_pandas = {\"Nama\": [\"Ali\", \"Budi\", \"Citra\", \"Dina\"], \"Pekerjaan\": [\"Insinyur\", \"Desainer\", \"Dokter\", \"Guru\"]}\n",
    "df_pandas = pd.DataFrame(data_pandas)\n",
    "\n",
    "# Mengonversi DataFrame PySpark ke Pandas\n",
    "df_pandas_from_spark = df_spark.toPandas()\n",
    "\n",
    "# Menggabungkan DataFrame Pandas dari Spark dengan DataFrame Pandas\n",
    "df_combined = pd.merge(df_pandas_from_spark, df_pandas, on=\"Nama\")\n",
    "\n",
    "# Mengonversi DataFrame gabungan ke PySpark\n",
    "df_combined_spark = spark.createDataFrame(df_combined)\n",
    "\n",
    "# Menampilkan DataFrame gabungan\n",
    "print(\"DataFrame Gabungan:\")\n",
    "df_combined_spark.show()\n",
    "\n",
    "# Menghitung nilai maksimum usia\n",
    "print(\"Nilai Maksimum Usia:\")\n",
    "df_combined_spark.agg(max(\"Usia\")).show()\n"
   ]
  },
  {
   "cell_type": "code",
   "execution_count": null,
   "id": "11c652eb-269e-4e67-a566-6cb11d16d9ed",
   "metadata": {},
   "outputs": [],
   "source": []
  }
 ],
 "metadata": {
  "kernelspec": {
   "display_name": "Python 3 (ipykernel)",
   "language": "python",
   "name": "python3"
  },
  "language_info": {
   "codemirror_mode": {
    "name": "ipython",
    "version": 3
   },
   "file_extension": ".py",
   "mimetype": "text/x-python",
   "name": "python",
   "nbconvert_exporter": "python",
   "pygments_lexer": "ipython3",
   "version": "3.11.9"
  }
 },
 "nbformat": 4,
 "nbformat_minor": 5
}
